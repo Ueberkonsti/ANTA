{
 "cells": [
  {
   "cell_type": "code",
   "execution_count": null,
   "id": "3d8fd2af",
   "metadata": {},
   "outputs": [],
   "source": [
    "import matplotlib.pyplot as plt\n",
    "import numpy as np\n",
    "import os\n",
    "import netCDF4 as nc\n",
    "import copy\n",
    "import cartopy.crs as ccrs\n",
    "import matplotlib.colors as colors\n",
    "import sys"
   ]
  },
  {
   "cell_type": "code",
   "execution_count": null,
   "id": "9d698569",
   "metadata": {},
   "outputs": [],
   "source": [
    "# create a path temporarely to use ACOLITE AC\n",
    "sys.path.append(r'\\path\\to\\main\\ACOLITE\\directory')\n",
    "import acolite as ac\n",
    "\n",
    "# set input and output according to the ACOLITE documentation\n",
    "inputfile = r'path\\to\\L1\\image'\n",
    "output_dir = r'path\\to\\output\\directory'\n",
    "\n",
    "# use all the settings for the ACOLITE AC according to the ACOLITE documentation\n",
    "settings = {\"inputfile\":inputfile, \"output\":output_dir, \"l2w_parameters\":\"rhow_*\"}\n",
    "ac.acolite.acolite_run(settings=settings)"
   ]
  },
  {
   "cell_type": "code",
   "execution_count": null,
   "id": "32a451e9",
   "metadata": {},
   "outputs": [],
   "source": [
    "# load the results of the AC\n",
    "a = r'path\\to\\AC\\results'\n",
    "os.chdir(a)\n",
    "\n",
    "ds = nc.Dataset(AC_result.nc)"
   ]
  },
  {
   "cell_type": "code",
   "execution_count": null,
   "id": "a0474aaa",
   "metadata": {},
   "outputs": [],
   "source": [
    "# convert data to arrays\n",
    "def convert_ds_variables_to_arrays(ds, field_name: str):\n",
    "    return ds.variables[field_name][:]\n",
    "\n",
    "red = convert_ds_variables_to_arrays(ds, 'red_band')\n",
    "nir = convert_ds_variables_to_arrays(ds, 'nir_band')\n",
    "lats = convert_ds_variables_to_arrays(ds, 'lat')\n",
    "lons = convert_ds_variables_to_arrays(ds, 'lon')"
   ]
  },
  {
   "cell_type": "code",
   "execution_count": null,
   "id": "7b2bc26e",
   "metadata": {},
   "outputs": [],
   "source": [
    "# set unrealistic outliers to nan values\n",
    "def replace_outliers_by_nan(wavelength_array):\n",
    "    wavelength_array_copy = wavelength_array.copy()\n",
    "    unrealistic_wavelength = np.logical_or(wavelength_array_copy>5, wavelength_array_copy<0)\n",
    "    wavelength_array_copy[unrealistic_wavelength] = np.nan\n",
    "    return wavelength_array_copy\n",
    "\n",
    "red = replace_outliers_by_nan(red)\n",
    "nir = replace_outliers_by_nan(nir)"
   ]
  },
  {
   "cell_type": "code",
   "execution_count": null,
   "id": "0e05a890",
   "metadata": {},
   "outputs": [],
   "source": [
    "# define the ANTA. use A and C parameters from Klein et al. (2021)\n",
    "def calculate_ANTA(red, nir):\n",
    "    output = np.zeros_like(red)\n",
    "    mask = np.zeros_like(red)\n",
    "    # get options\n",
    "    T_low = red < 0.05\n",
    "    T_mid = np.logical_and(red>=0.05, red<=0.07)\n",
    "    T_nan = np.logical_or(np.isnan(red), np.isnan(nir))\n",
    "    T_other = ~np.logical_or(T_low, T_mid, T_nan)\n",
    "\n",
    "    # nan option\n",
    "    r = red[T_nan]\n",
    "    n = nir[T_nan]\n",
    "    output[T_nan] = np.nan\n",
    "\n",
    "    # intermediate option\n",
    "    r = red[T_mid]\n",
    "    n = nir[T_mid]\n",
    "    output[T_mid] = ((1-(-50*r+3.5))*(A_red*r/(1-r/C_red)) + (-50*r+3.5)*A_nir*n/(1-n/C_nir))  \n",
    "\n",
    "    # high option\n",
    "    n = nir[T_other]\n",
    "    output[T_other] = (A_nir*n/(1-n/C_nir))\n",
    "    \n",
    "     # low option\n",
    "    r = red[T_low]\n",
    "    output[T_low] = A_red * r / (1-r/C_red)\n",
    "    \n",
    "    # fill mask\n",
    "    mask[T_other] = 3\n",
    "    mask[T_nan] = 4\n",
    "    mask[T_low] = 1\n",
    "    mask[T_mid] = 2\n",
    "\n",
    "    return output, mask"
   ]
  },
  {
   "cell_type": "code",
   "execution_count": null,
   "id": "fef02878",
   "metadata": {},
   "outputs": [],
   "source": [
    "output, mask = ANTA(red, nir)"
   ]
  },
  {
   "cell_type": "code",
   "execution_count": null,
   "id": "9c21a14c",
   "metadata": {},
   "outputs": [],
   "source": [
    "# convert outliers to nan\n",
    "out_to_nan = np.logical_and(output > Z, output < 0) # defining Z as max. value is optinal and depends on your study area\n",
    "output[out_to_nan] = np.nan"
   ]
  },
  {
   "cell_type": "code",
   "execution_count": null,
   "id": "97d331e0",
   "metadata": {},
   "outputs": [],
   "source": [
    "# plot the results\n",
    "fig = plt.figure(figsize=(20, 20), dpi=300)\n",
    "fig.patch.set_alpha(1)\n",
    "#fig.add_subplot(ROW,COLUMN,POSITION)\n",
    "ax1 = fig.add_subplot(111, projection=ccrs.Mercator())\n",
    "ax1.set_extent([X1, X2, Y1, Y2], crs=ccrs.PlateCarree()) # X1, X2, Y1, Y2 as coordinates\n",
    "transform = ccrs.PlateCarree()\n",
    "\n",
    "f1 = ax1.pcolormesh(lons, lats, np.ma.masked_invalid(output), \n",
    "                        shading='auto', transform = transform,\n",
    "                        vmin=1, vmax=200, cmap=plt.cm.rainbow, norm=colors.LogNorm(vmin=1, vmax=200)) # log scale\n",
    "\n",
    "fig.show()"
   ]
  }
 ],
 "metadata": {
  "kernelspec": {
   "display_name": "Python 3",
   "language": "python",
   "name": "python3"
  },
  "language_info": {
   "codemirror_mode": {
    "name": "ipython",
    "version": 3
   },
   "file_extension": ".py",
   "mimetype": "text/x-python",
   "name": "python",
   "nbconvert_exporter": "python",
   "pygments_lexer": "ipython3",
   "version": "3.7.9"
  }
 },
 "nbformat": 4,
 "nbformat_minor": 5
}
